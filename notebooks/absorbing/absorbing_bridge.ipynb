{
 "cells": [
  {
   "cell_type": "code",
   "execution_count": 1,
   "metadata": {},
   "outputs": [],
   "source": [
    "import torch\n",
    "from multimodal_particles.models import AbsorbingFlow\n",
    "from multimodal_particles.config_classes.absorbing_flows_config import AbsorbingConfig\n",
    "from multimodal_particles.data.particle_clouds.jets import JetDataclass\n",
    "from multimodal_particles.data.particle_clouds.jets_dataloader import JetsDataloaderModule\n",
    "from multimodal_particles.models.generative.bridges import AbsorbingBridge"
   ]
  },
  {
   "cell_type": "code",
   "execution_count": 2,
   "metadata": {},
   "outputs": [
    {
     "name": "stderr",
     "output_type": "stream",
     "text": [
      "/home/cesarali/particles/lib/python3.12/site-packages/torch/nn/utils/weight_norm.py:143: FutureWarning: `torch.nn.utils.weight_norm` is deprecated in favor of `torch.nn.utils.parametrizations.weight_norm`.\n",
      "  WeightNorm.apply(module, name, dim)\n"
     ]
    }
   ],
   "source": [
    "# Define parameters\n",
    "config = AbsorbingConfig()\n",
    "t = torch.tensor([0.5,0.4, 1.0], dtype=torch.float32)  # Example input (B,)\n",
    "\n",
    "config = AbsorbingConfig()\n",
    "model = AbsorbingFlow(config)\n",
    "random_databatch = JetsDataloaderModule.random_databatch(config)"
   ]
  },
  {
   "cell_type": "code",
   "execution_count": 36,
   "metadata": {},
   "outputs": [],
   "source": []
  },
  {
   "cell_type": "code",
   "execution_count": 50,
   "metadata": {},
   "outputs": [],
   "source": [
    "t = torch.ones(\n",
    "    random_databatch.target_continuous.shape[0], device=random_databatch.target_continuous.device\n",
    ").type_as(random_databatch.target_continuous)\n",
    "\n",
    "# ts = self.min_t + (1-self.min_t) * torch.rand((B,)) # (B,)\n",
    "\n",
    "time = model.reshape_time(t, random_databatch.target_continuous)\n",
    "\n",
    "B = random_databatch.target_continuous.size(0)\n",
    "N = random_databatch.target_continuous.size(1)\n",
    "mask_1 = random_databatch.target_mask\n",
    "time_ = time.repeat((1,N,1)) # (B,N,1)\n",
    "random_ = torch.rand_like(time_)\n",
    "survival_probability = model.bridge_absorbing.survival_probability(time_)\n",
    "mask_t = (random_ < survival_probability ).long()\n",
    "where_alive = torch.where(mask_1)\n",
    "mask_t[where_alive] = 1"
   ]
  },
  {
   "cell_type": "code",
   "execution_count": 54,
   "metadata": {},
   "outputs": [
    {
     "data": {
      "text/plain": [
       "tensor(True)"
      ]
     },
     "execution_count": 54,
     "metadata": {},
     "output_type": "execute_result"
    }
   ],
   "source": [
    "(mask_t == mask_1).all()"
   ]
  },
  {
   "cell_type": "code",
   "execution_count": null,
   "metadata": {},
   "outputs": [],
   "source": []
  }
 ],
 "metadata": {
  "kernelspec": {
   "display_name": "particles",
   "language": "python",
   "name": "python3"
  },
  "language_info": {
   "codemirror_mode": {
    "name": "ipython",
    "version": 3
   },
   "file_extension": ".py",
   "mimetype": "text/x-python",
   "name": "python",
   "nbconvert_exporter": "python",
   "pygments_lexer": "ipython3",
   "version": "3.12.3"
  }
 },
 "nbformat": 4,
 "nbformat_minor": 2
}
