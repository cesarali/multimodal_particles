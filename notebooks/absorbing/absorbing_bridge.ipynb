{
 "cells": [
  {
   "cell_type": "code",
   "execution_count": 1,
   "metadata": {},
   "outputs": [],
   "source": [
    "import torch\n",
    "from multimodal_particles.models import AbsorbingFlow\n",
    "from multimodal_particles.config_classes.absorbing_flows_config import AbsorbingConfig\n",
    "from multimodal_particles.data.particle_clouds.jets import JetDataclass\n",
    "from multimodal_particles.data.particle_clouds.jets_dataloader import JetsDataloaderModule\n",
    "from multimodal_particles.models.generative.bridges import AbsorbingBridge"
   ]
  },
  {
   "cell_type": "code",
   "execution_count": 2,
   "metadata": {},
   "outputs": [
    {
     "name": "stderr",
     "output_type": "stream",
     "text": [
      "/home/cesarali/particles/lib/python3.12/site-packages/torch/nn/utils/weight_norm.py:143: FutureWarning: `torch.nn.utils.weight_norm` is deprecated in favor of `torch.nn.utils.parametrizations.weight_norm`.\n",
      "  WeightNorm.apply(module, name, dim)\n"
     ]
    }
   ],
   "source": [
    "# Define parameters\n",
    "config = AbsorbingConfig()\n",
    "t = torch.tensor([0.5,0.4, 1.0], dtype=torch.float32)  # Example input (B,)\n",
    "\n",
    "config = AbsorbingConfig()\n",
    "model = AbsorbingFlow(config)\n",
    "random_databatch = JetsDataloaderModule.random_databatch(config)"
   ]
  },
  {
   "cell_type": "code",
   "execution_count": 36,
   "metadata": {},
   "outputs": [],
   "source": []
  },
  {
   "cell_type": "code",
   "execution_count": 4,
   "metadata": {},
   "outputs": [
    {
     "name": "stdout",
     "output_type": "stream",
     "text": [
      "Loss: 0.38935863971710205\n"
     ]
    }
   ],
   "source": [
    "import torch\n",
    "import torch.nn as nn\n",
    "\n",
    "# Example logits output from your model (B, 1)\n",
    "logits = torch.tensor([[0.5], [-1.2], [2.0], [0.0]])  # Shape (B, 1)\n",
    "\n",
    "# Corresponding targets (B, 1), should be {0, 1}\n",
    "targets = torch.tensor([[1], [0], [1], [0]]).float()  # Shape (B, 1)\n",
    "\n",
    "# Define the loss function\n",
    "loss_fn = nn.BCEWithLogitsLoss()\n",
    "\n",
    "# Calculate the loss\n",
    "loss = loss_fn(logits, targets)\n",
    "print(f\"Loss: {loss.item()}\")\n"
   ]
  }
 ],
 "metadata": {
  "kernelspec": {
   "display_name": "particles",
   "language": "python",
   "name": "python3"
  },
  "language_info": {
   "codemirror_mode": {
    "name": "ipython",
    "version": 3
   },
   "file_extension": ".py",
   "mimetype": "text/x-python",
   "name": "python",
   "nbconvert_exporter": "python",
   "pygments_lexer": "ipython3",
   "version": "3.12.3"
  }
 },
 "nbformat": 4,
 "nbformat_minor": 2
}
