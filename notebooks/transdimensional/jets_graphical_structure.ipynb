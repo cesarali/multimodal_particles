{
 "cells": [
  {
   "cell_type": "code",
   "execution_count": 1,
   "metadata": {},
   "outputs": [],
   "source": [
    "import os\n",
    "import pytest\n",
    "import torch\n",
    "import numpy as np\n",
    "from pprint import pprint\n",
    "from multimodal_particles import config_dir\n",
    "\n",
    "from multimodal_particles.data.particle_clouds.utils import sizes_to_histograms\n",
    "from multimodal_particles.utils.experiment_configs import load_config\n",
    "from multimodal_particles.models.generative.transdimensional import TransdimensionalJumpDiffusion\n",
    "from multimodal_particles.config_classes.transdimensional_config_unconditional import TransdimensionalEpicConfig\n",
    "from multimodal_particles.data.particle_clouds.dataloader import JetsGraphicalStructure\n",
    "from multimodal_particles.models.generative.transdimensional.structure import Structure\n",
    "from multimodal_particles.data.particle_clouds.jets import JetDataclass\n",
    "from multimodal_particles.data.particle_clouds.dataloader import MultimodalBridgeDataloaderModule"
   ]
  },
  {
   "cell_type": "code",
   "execution_count": 2,
   "metadata": {},
   "outputs": [
    {
     "name": "stdout",
     "output_type": "stream",
     "text": [
      "INFO: building dataloaders...\n",
      "INFO: train/val/test split ratios: 0.8/0.2/0.0\n",
      "INFO: train size: 800, validation size: 200, testing sizes: 0\n"
     ]
    },
    {
     "name": "stderr",
     "output_type": "stream",
     "text": [
      "/home/cesarali/Codes/multimodal_particles/multimodal_particles/data/particle_clouds/utils.py:250: UserWarning: To copy construct from a tensor, it is recommended to use sourceTensor.clone().detach() or sourceTensor.clone().detach().requires_grad_(True), rather than torch.tensor(sourceTensor).\n",
      "  discrete = torch.tensor(discrete).long()\n"
     ]
    }
   ],
   "source": [
    "#obtain configs\n",
    "config = TransdimensionalEpicConfig()\n",
    "config.data.return_type = \"list\"\n",
    "\n",
    "# create datamodule\n",
    "jets = JetDataclass(config=config)\n",
    "jets.preprocess()\n",
    "dataloader = MultimodalBridgeDataloaderModule(config=config, jetdataset=jets)"
   ]
  },
  {
   "cell_type": "code",
   "execution_count": 7,
   "metadata": {},
   "outputs": [],
   "source": [
    "databatch = next(dataloader.train.__iter__())"
   ]
  },
  {
   "cell_type": "code",
   "execution_count": 10,
   "metadata": {},
   "outputs": [
    {
     "data": {
      "text/plain": [
       "{'target_continuous': 0, 'target_discrete': 1, 'target_mask': 2}"
      ]
     },
     "execution_count": 10,
     "metadata": {},
     "output_type": "execute_result"
    }
   ],
   "source": [
    "dataloader.name_to_index"
   ]
  },
  {
   "cell_type": "code",
   "execution_count": 3,
   "metadata": {},
   "outputs": [
    {
     "data": {
      "text/plain": [
       "[torch.Size([128, 3]), torch.Size([128, 8]), torch.Size([128, 1])]"
      ]
     },
     "execution_count": 3,
     "metadata": {},
     "output_type": "execute_result"
    }
   ],
   "source": [
    "dataloader.with_onehot_shapes"
   ]
  },
  {
   "cell_type": "code",
   "execution_count": 4,
   "metadata": {},
   "outputs": [
    {
     "data": {
      "text/plain": [
       "[torch.Size([128, 3]), torch.Size([128, 1])]"
      ]
     },
     "execution_count": 4,
     "metadata": {},
     "output_type": "execute_result"
    }
   ],
   "source": [
    "dataloader.without_onehot_shapes"
   ]
  },
  {
   "cell_type": "code",
   "execution_count": 6,
   "metadata": {},
   "outputs": [],
   "source": [
    "def create_and_apply_mask_3(one_tensor_from_databatch,new_dims_dev,device):\n",
    "    one_tensor_mask = torch.arange(one_tensor_from_databatch.shape[1], device=device).view(1, -1, 1).repeat(one_tensor_from_databatch.shape[0], 1, one_tensor_from_databatch.shape[2])\n",
    "    one_tensor_mask = (one_tensor_mask < new_dims_dev.view(-1, 1, 1))\n",
    "    one_tensor_from_databatch = one_tensor_from_databatch * one_tensor_mask\n",
    "    return one_tensor_from_databatch,one_tensor_mask\n",
    "\n",
    "def create_and_apply_mask_2(one_tensor_from_databatch,new_dims_dev,device):\n",
    "    one_tensor_mask = torch.arange(one_tensor_from_databatch.shape[1], device=device).view(1, -1).repeat(one_tensor_from_databatch.shape[0], 1)\n",
    "    one_tensor_mask = (one_tensor_mask < new_dims_dev.view(-1, 1))\n",
    "    one_tensor_from_databatch = one_tensor_from_databatch * one_tensor_mask\n",
    "    return one_tensor_from_databatch,one_tensor_mask\n",
    "\n",
    "def remove_problem_dims(self, data, new_dims,name,name_to_index):\n",
    "    # pos, atom_type, charge, alpha, homo, lumo, gap, mu, Cv = data\n",
    "\n",
    "    #B = pos.shape[0]\n",
    "    #assert atom_type.shape == (B, *self.shapes_with_onehot()[1])\n",
    "    #assert charge.shape == (B, *self.shapes_with_onehot()[2])\n",
    "\n",
    "    device = data[0].device\n",
    "    new_dims_dev = new_dims.to(device)\n",
    "\n",
    "    databatch_with_dimensions_removed = []\n",
    "    for name_index, name in enumerate(self.names_in_batch):\n",
    "        if \"target_continuous\" == name:\n",
    "            tensor_index = name_to_index[\"target_continuous\"]\n",
    "            one_tensor_from_databatch = data[tensor_index]\n",
    "            B = one_tensor_from_databatch.size(0)\n",
    "            new_tensor = create_and_apply_mask_3(one_tensor_from_databatch,new_dims_dev,device)\n",
    "            databatch_with_dimensions_removed.append(new_tensor)\n",
    "            #assert pos.shape == (B, *self.shapes_with_onehot()[0])\n",
    "        if \"target_discrete\" == name:\n",
    "            tensor_index = name_to_index[\"target_continuous\"]\n",
    "            one_tensor_from_databatch = data[tensor_index]\n",
    "            B = one_tensor_from_databatch.size(0)\n",
    "            new_tensor = create_and_apply_mask_3(one_tensor_from_databatch,new_dims_dev,device)\n",
    "            databatch_with_dimensions_removed.append(new_tensor)        \n",
    "        if \"target_mask\" == name:\n",
    "            tensor_index = name_to_index[\"target_continuous\"]\n",
    "            one_tensor_from_databatch = data[tensor_index]\n",
    "            B = one_tensor_from_databatch.size(0)\n",
    "            new_tensor = create_and_apply_mask_3(one_tensor_from_databatch,new_dims_dev,device)\n",
    "            databatch_with_dimensions_removed.append(new_tensor)        \n",
    "        if \"context_continuous\" == name:\n",
    "            tensor_index = name_to_index[\"target_continuous\"]\n",
    "            one_tensor_from_databatch = data[tensor_index]\n",
    "            B = one_tensor_from_databatch.size(0)\n",
    "            new_tensor = create_and_apply_mask_3(one_tensor_from_databatch,new_dims_dev,device)\n",
    "            databatch_with_dimensions_removed.append(new_tensor)\n",
    "        if \"context_discrete\" == name:\n",
    "            tensor_index = name_to_index[\"target_continuous\"]\n",
    "            one_tensor_from_databatch = data[tensor_index]\n",
    "            B = one_tensor_from_databatch.size(0)\n",
    "            new_tensor = create_and_apply_mask_3(one_tensor_from_databatch,new_dims_dev,device)\n",
    "            databatch_with_dimensions_removed.append(new_tensor)\n",
    "\n",
    "    return databatch_with_dimensions_removed"
   ]
  },
  {
   "cell_type": "code",
   "execution_count": null,
   "metadata": {},
   "outputs": [],
   "source": [
    "import torch\n",
    "\n",
    "def create_masked_tensor(tensor, new_dims_dev, device):\n",
    "    # Ensure new_dims_dev is properly expanded to match the batch size of the tensor\n",
    "    new_dims_expanded = new_dims_dev.view(-1, 1, *(1 for _ in range(tensor.dim() - 2))).expand(tensor.shape[0], -1, *(tensor.shape[2:] if tensor.dim() > 2 else []))\n",
    "    tensor_mask = torch.arange(tensor.shape[1], device=device).view(1, -1, *(1 for _ in range(tensor.dim() - 2))).expand(tensor.shape[0], -1, *(tensor.shape[2:] if tensor.dim() > 2 else []))\n",
    "    tensor_mask = tensor_mask < new_dims_expanded\n",
    "    return tensor * tensor_mask\n",
    "\n",
    "# Example usage:\n",
    "device = torch.device('cuda' if torch.cuda.is_available() else 'cpu')\n",
    "new_dims_dev = torch.tensor([10, 20, 15, 12, 18], device=device)  # Ensure the size matches the batch size\n",
    "\n",
    "one_tensor_from_databatch = torch.randn(5, 10, 3, device=device)\n",
    "atom_type = torch.randn(5, 15, 3, device=device)\n",
    "one_tensor_from_databatch = torch.randn(5, 12, device=device)\n",
    "\n",
    "masked_pos = create_masked_tensor(one_tensor_from_databatch, new_dims_dev[:one_tensor_from_databatch.shape[0]], device)\n",
    "masked_atom_type = create_masked_tensor(atom_type, new_dims_dev[:atom_type.shape[0]], device)\n",
    "masked_charge = create_masked_tensor(one_tensor_from_databatch, new_dims_dev[:one_tensor_from_databatch.shape[0]], device)\n"
   ]
  },
  {
   "cell_type": "code",
   "execution_count": null,
   "metadata": {},
   "outputs": [],
   "source": []
  }
 ],
 "metadata": {
  "kernelspec": {
   "display_name": "particles",
   "language": "python",
   "name": "python3"
  },
  "language_info": {
   "codemirror_mode": {
    "name": "ipython",
    "version": 3
   },
   "file_extension": ".py",
   "mimetype": "text/x-python",
   "name": "python",
   "nbconvert_exporter": "python",
   "pygments_lexer": "ipython3",
   "version": "3.12.3"
  }
 },
 "nbformat": 4,
 "nbformat_minor": 2
}
